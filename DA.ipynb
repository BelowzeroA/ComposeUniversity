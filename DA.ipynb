{
 "cells": [
  {
   "cell_type": "code",
   "execution_count": 1,
   "metadata": {
    "collapsed": false
   },
   "outputs": [],
   "source": [
    "import gensim\n",
    "from nltk.cluster.kmeans import KMeansClusterer\n",
    "from nltk.cluster.util import cosine_distance, euclidean_distance\n",
    "from os import path\n",
    "from wordcloud import WordCloud\n",
    "import matplotlib.pyplot as plt\n",
    "import numpy as np\n",
    "from gensim.summarization import keywords\n",
    "from gensim.summarization import summarize\n",
    "from summarization import Summarizer\n",
    "import pickle"
   ]
  },
  {
   "cell_type": "code",
   "execution_count": 2,
   "metadata": {
    "collapsed": true
   },
   "outputs": [],
   "source": [
    "#SKIP\n",
    "model = gensim.models.KeyedVectors.load_word2vec_format('./GoogleNews-vectors-negative300.bin', binary=True)\n",
    "#https://drive.google.com/uc?id=0B7XkCwpI5KDYNlNUTTlSS21pQmM&export=download"
   ]
  },
  {
   "cell_type": "code",
   "execution_count": 59,
   "metadata": {
    "collapsed": false
   },
   "outputs": [
    {
     "name": "stdout",
     "output_type": "stream",
     "text": [
      "2\n",
      "4\n",
      "2\n",
      "3\n",
      "1\n",
      "2\n",
      "3\n",
      "3\n",
      "2\n",
      "2\n",
      "\n",
      " 24\n"
     ]
    }
   ],
   "source": [
    "#SKIP\n",
    "folder = \"samples3\"\n",
    "summarizer = Summarizer(folder)\n",
    "sums = summarizer.summarize_all()\n",
    "files = summarizer.files\n",
    "sources = summarizer.sources\n",
    "\n",
    "for sum in sums:\n",
    "    print(len(sum))\n",
    "\n",
    "corpus = []\n",
    "d = dict()\n",
    "\n",
    "i = 0\n",
    "for sum in sums:\n",
    "    for x in sum:\n",
    "        corpus.append(x)\n",
    "        d[x] = i\n",
    "        i+=1\n",
    "        \n",
    "print(\"\\n\",len(corpus))\n",
    "pickle.dump(sources, open(\"sources.p\", \"wb\" ))\n",
    "pickle.dump(corpus, open(\"corpus.p\", \"wb\" ))\n",
    "pickle.dump(files, open(\"files.p\", \"wb\" ))\n",
    "pickle.dump(sums, open(\"sums.p\", \"wb\" ))\n",
    "pickle.dump(d, open(\"d.p\", \"wb\" ))"
   ]
  },
  {
   "cell_type": "code",
   "execution_count": null,
   "metadata": {
    "collapsed": false
   },
   "outputs": [],
   "source": []
  },
  {
   "cell_type": "code",
   "execution_count": 60,
   "metadata": {
    "collapsed": false
   },
   "outputs": [],
   "source": [
    "corpus = pickle.load(open(\"corpus.p\", \"rb\" ) )\n",
    "model_small = pickle.load(open(\"model.p\", \"rb\" ) )\n",
    "data = []\n",
    "for sentence in corpus:\n",
    "    sentence = sentence.lower().split()\n",
    "    #res = []\n",
    "    res = 0\n",
    "    n = 0\n",
    "    for word in sentence:\n",
    "        try:\n",
    "            #model_small[word]=model[word]\n",
    "            res+=model_small[word]\n",
    "            #res.append(model[word])\n",
    "            n+=1\n",
    "        except:\n",
    "            pass\n",
    "    res/=n\n",
    "    #print(n)\n",
    "    #for i in range(50-n):\n",
    "    #    res.append([0]*300)\n",
    "    res = np.array(res)\n",
    "    #print(res.shape)\n",
    "    data.append(res.reshape(-1))\n",
    "    \n",
    "data = np.array(data)\n",
    "pickle.dump(data, open( \"data.p\", \"wb\" ) )\n",
    "#pickle.dump(model_small, open( \"model.p\", \"wb\" ) )"
   ]
  },
  {
   "cell_type": "code",
   "execution_count": 61,
   "metadata": {
    "collapsed": false,
    "scrolled": true
   },
   "outputs": [
    {
     "ename": "TypeError",
     "evalue": "seed expected at most 1 arguments, got 2",
     "output_type": "error",
     "traceback": [
      "\u001b[0;31m---------------------------------------------------------------------------\u001b[0m",
      "\u001b[0;31mTypeError\u001b[0m                                 Traceback (most recent call last)",
      "\u001b[0;32m<ipython-input-61-cbbbe9d12072>\u001b[0m in \u001b[0;36m<module>\u001b[0;34m()\u001b[0m\n\u001b[1;32m      3\u001b[0m \u001b[0;32mimport\u001b[0m \u001b[0mrandom\u001b[0m\u001b[0;34m\u001b[0m\u001b[0m\n\u001b[1;32m      4\u001b[0m \u001b[0;34m\u001b[0m\u001b[0m\n\u001b[0;32m----> 5\u001b[0;31m \u001b[0mkclusterer\u001b[0m \u001b[0;34m=\u001b[0m \u001b[0mKMeansClusterer\u001b[0m\u001b[0;34m(\u001b[0m\u001b[0mNUM_CLUSTERS\u001b[0m\u001b[0;34m,\u001b[0m \u001b[0mdistance\u001b[0m\u001b[0;34m=\u001b[0m\u001b[0meuclidean_distance\u001b[0m\u001b[0;34m,\u001b[0m \u001b[0mrepeats\u001b[0m\u001b[0;34m=\u001b[0m\u001b[0;36m100\u001b[0m\u001b[0;34m,\u001b[0m \u001b[0mrng\u001b[0m\u001b[0;34m=\u001b[0m\u001b[0mrandom\u001b[0m\u001b[0;34m.\u001b[0m\u001b[0mRandom\u001b[0m\u001b[0;34m(\u001b[0m\u001b[0;36m0\u001b[0m\u001b[0;34m,\u001b[0m\u001b[0;36m5\u001b[0m\u001b[0;34m)\u001b[0m\u001b[0;34m)\u001b[0m \u001b[0;31m#euclidean_distance #cosine_distance\u001b[0m\u001b[0;34m\u001b[0m\u001b[0m\n\u001b[0m\u001b[1;32m      6\u001b[0m \u001b[0massigned_clusters\u001b[0m \u001b[0;34m=\u001b[0m \u001b[0mkclusterer\u001b[0m\u001b[0;34m.\u001b[0m\u001b[0mcluster\u001b[0m\u001b[0;34m(\u001b[0m\u001b[0mdata\u001b[0m\u001b[0;34m,\u001b[0m \u001b[0massign_clusters\u001b[0m\u001b[0;34m=\u001b[0m\u001b[0;32mTrue\u001b[0m\u001b[0;34m)\u001b[0m\u001b[0;34m\u001b[0m\u001b[0m\n\u001b[1;32m      7\u001b[0m \u001b[0;31m#print(kclusterer.means())\u001b[0m\u001b[0;34m\u001b[0m\u001b[0;34m\u001b[0m\u001b[0m\n",
      "\u001b[0;31mTypeError\u001b[0m: seed expected at most 1 arguments, got 2"
     ]
    }
   ],
   "source": [
    "data = pickle.load(open(\"data.p\", \"rb\" ) )\n",
    "NUM_CLUSTERS = 3\n",
    "import random\n",
    "\n",
    "kclusterer = KMeansClusterer(NUM_CLUSTERS, distance=euclidean_distance, repeats=100, rng=random.Random(0,5)) #euclidean_distance #cosine_distance\n",
    "assigned_clusters = kclusterer.cluster(data, assign_clusters=True)\n",
    "#print(kclusterer.means())\n",
    "\n",
    "import re\n",
    "from collections import Counter\n",
    "for j in range(NUM_CLUSTERS):\n",
    "    cluster = [corpus[i] for i in range(len(corpus)) if assigned_clusters[i]==j]\n",
    "\n",
    "    text = []\n",
    "    for i in range(len(cluster)):\n",
    "        sentense = str(cluster[i]).lower().split(\" \")\n",
    "        for word in sentense:\n",
    "            text.append(re.sub(r'[^\\w\\s]','',str(word)))\n",
    "    cnt = Counter(text)\n",
    "    f = open(\"cluster_\"+str(j)+\".txt\", 'w')\n",
    "    for item in text:\n",
    "        f.write(\"%s\\n\" % item)\n",
    "    f.close()\n",
    "    \n",
    "    text = open(\"cluster_\"+str(j)+\".txt\").read()\n",
    "    wordcloud = WordCloud().generate(text)\n",
    "    \n",
    "    plt.imshow(wordcloud, interpolation='bilinear')\n",
    "    plt.axis(\"off\")\n",
    "    m = 100\n",
    "    l = 0\n",
    "    for k in range(len(data)):\n",
    "        t = euclidean_distance(data[k], kclusterer.means()[j])\n",
    "        if t<m:\n",
    "            m=t\n",
    "            l=k\n",
    "    print(corpus[l])\n",
    "    plt.show()"
   ]
  },
  {
   "cell_type": "code",
   "execution_count": 160,
   "metadata": {
    "collapsed": false
   },
   "outputs": [],
   "source": [
    "weights = [0.59, 0.11, 0.37]"
   ]
  },
  {
   "cell_type": "code",
   "execution_count": 161,
   "metadata": {
    "collapsed": false
   },
   "outputs": [
    {
     "name": "stdout",
     "output_type": "stream",
     "text": [
      "03-Essay01 0.22\n",
      "03-Essay02 1.7\n",
      "03-Essay03 0.22\n",
      "03-Essay04 1.77\n",
      "03-Essay05 0.11\n",
      "03-Essay06 0.48\n",
      "03-Essay07 1.07\n",
      "03-Essay08 1.33\n",
      "03-Essay09 0.48\n",
      "03-Essay10 0.48\n"
     ]
    }
   ],
   "source": [
    "sources = pickle.load(open(\"sources.p\", \"rb\" ) )\n",
    "files = pickle.load(open(\"files.p\", \"rb\" ) )\n",
    "sums = pickle.load(open(\"sums.p\", \"rb\" ) )\n",
    "d = pickle.load(open(\"d.p\", \"rb\" ) )\n",
    "i = 0\n",
    "score = dict()\n",
    "for essay in sums:\n",
    "    res = 0\n",
    "    for sentance in essay:\n",
    "        k = assigned_clusters[d[sentance]]\n",
    "        #print(k)\n",
    "        res+= weights[k]\n",
    "    print(files[i], round(res,2))\n",
    "    score[files[i]] = res\n",
    "    i+=1"
   ]
  },
  {
   "cell_type": "code",
   "execution_count": 183,
   "metadata": {
    "collapsed": false
   },
   "outputs": [
    {
     "data": {
      "image/png": "[encoded data removed]",
      "text/plain": [
       "<matplotlib.figure.Figure at 0x7f7b21958be0>"
      ]
     },
     "metadata": {},
     "output_type": "display_data"
    },
    {
     "name": "stdout",
     "output_type": "stream",
     "text": [
      "Top 10:\n"
     ]
    },
    {
     "data": {
      "text/plain": [
       "[('03-Essay09 03-Essay10', 1.0000000000000033),\n",
       " ('03-Essay02 03-Essay04', 0.59806747856548104),\n",
       " ('03-Essay02 03-Essay06', 0.58743640090218663),\n",
       " ('03-Essay02 03-Essay08', 0.56926997799162171),\n",
       " ('03-Essay04 03-Essay06', 0.55371135593726029),\n",
       " ('03-Essay04 03-Essay08', 0.48620789590116298),\n",
       " ('03-Essay05 03-Essay09', 0.48126684213491722),\n",
       " ('03-Essay05 03-Essay10', 0.48126684213491705),\n",
       " ('03-Essay04 03-Essay05', 0.4793432449764688),\n",
       " ('03-Essay01 03-Essay02', 0.47892275227557179)]"
      ]
     },
     "execution_count": 183,
     "metadata": {},
     "output_type": "execute_result"
    }
   ],
   "source": [
    "import nltk, string\n",
    "from sklearn.feature_extraction.text import TfidfVectorizer\n",
    "from collections import Counter\n",
    "import matplotlib.pyplot as plt\n",
    "import operator\n",
    "\n",
    "#nltk.download('punkt') # if necessary...\n",
    "\n",
    "stemmer = nltk.stem.porter.PorterStemmer()\n",
    "remove_punctuation_map = dict((ord(char), None) for char in string.punctuation)\n",
    "\n",
    "def stem_tokens(tokens):\n",
    "    return [stemmer.stem(item) for item in tokens]\n",
    "\n",
    "'''remove punctuation, lowercase, stem'''\n",
    "def normalize(text):\n",
    "    return stem_tokens(nltk.word_tokenize(text.lower().translate(remove_punctuation_map)))\n",
    "\n",
    "vectorizer = TfidfVectorizer(tokenizer=normalize, stop_words='english')\n",
    "\n",
    "def cosine_sim(text1, text2):\n",
    "    tfidf = vectorizer.fit_transform([text1, text2])\n",
    "    return ((tfidf * tfidf.T).A)[0,1]\n",
    "\n",
    "origin = dict()\n",
    "for i in range(len(sources)):\n",
    "    origin[files[i]] = 0\n",
    "    for j in range(len(sources)):\n",
    "        origin[files[i]] += 1/(1.01 - cosine_sim(sources[i], sources[j]))\n",
    "    origin[files[i]] =  1/origin[files[i]]*100 #len(sources)/2   \n",
    "    #print(files[i], origin[files[i]])\n",
    "\n",
    "similatity = dict()\n",
    "for i in range(len(sources)):\n",
    "    for j in range(i+1,len(sources)):\n",
    "        similatity[files[i] + \" \" + files[j]] = cosine_sim(sources[i], sources[j])\n",
    "        #print(files[i], files[j], cosine_sim(sources[i], sources[j]))\n",
    "\n",
    "cnt = Counter(similatity)\n",
    "\n",
    "sorted_cnt = sorted(cnt.items(), key=operator.itemgetter(1), reverse=True)\n",
    "#print(sorted_cnt)\n",
    "\n",
    "labels, values = zip(*sorted_cnt)\n",
    "\n",
    "indexes = np.arange(len(labels))\n",
    "width = 1\n",
    "\n",
    "plt.bar(indexes, values, width)\n",
    "plt.xticks(indexes + width * 0.5, [])\n",
    "plt.title('Sorted similarity by TF-IDF')\n",
    "plt.show()\n",
    "\n",
    "print(\"Top 10:\")\n",
    "cnt.most_common(10)"
   ]
  },
  {
   "cell_type": "code",
   "execution_count": 165,
   "metadata": {
    "collapsed": false
   },
   "outputs": [
    {
     "data": {
      "image/png": "[encoded data removed]",
      "text/plain": [
       "<matplotlib.figure.Figure at 0x7f7b22c06860>"
      ]
     },
     "metadata": {},
     "output_type": "display_data"
    },
    {
     "name": "stdout",
     "output_type": "stream",
     "text": [
      "Top 10:\n"
     ]
    },
    {
     "data": {
      "text/plain": [
       "[('03-Essay09', 1.0159500290528762),\n",
       " ('03-Essay10', 1.0159500290528762),\n",
       " ('03-Essay03', 0.99526159921026647),\n",
       " ('03-Essay06', 0.82155309033280499),\n",
       " ('03-Essay07', 0.68356616713233431),\n",
       " ('03-Essay04', 0.63343052483410411),\n",
       " ('03-Essay01', 0.582140261627907),\n",
       " ('03-Essay05', 0.4732679554113165),\n",
       " ('03-Essay02', 0.47166149068322982),\n",
       " ('03-Essay08', 0.46584992343032161)]"
      ]
     },
     "execution_count": 165,
     "metadata": {},
     "output_type": "execute_result"
    }
   ],
   "source": [
    "#Yule’s K characteristic\n",
    "from nltk.stem.porter import PorterStemmer\n",
    "from itertools import groupby\n",
    " \n",
    "def words(entry):\n",
    "    return filter(lambda w: len(w) > 0,\n",
    "                  [w.strip(\"0123456789!:,.?(){}[]\") for w in entry.split()])\n",
    " \n",
    "def yule(entry):\n",
    "    # yule's I measure (the inverse of yule's K measure)\n",
    "    # higher number is higher diversity - richer vocabulary\n",
    "    d = dict()\n",
    "    stemmer = PorterStemmer()\n",
    "    for w in words(entry):\n",
    "        w = stemmer.stem(w).lower()\n",
    "        try:\n",
    "            d[w] += 1\n",
    "        except KeyError:\n",
    "            d[w] = 1\n",
    "    M1 = float(len(d))\n",
    "    M2 = np.sum([len(list(g))*(freq**2) for freq,g in groupby(sorted(d.values()))])\n",
    "    #print(M1,M2)\n",
    "    try:\n",
    "        return (M1*M1)/(M2-M1)\n",
    "    except ZeroDivisionError:\n",
    "        return 0\n",
    "\n",
    "diversity = dict()\n",
    "for i in range(len(sources)):\n",
    "    diversity[files[i]] = yule(sources[i])/20\n",
    "    #print(files[i], yule(sources[i]))\n",
    "    \n",
    "cnt = Counter(diversity)\n",
    "\n",
    "sorted_cnt = sorted(cnt.items(), key=operator.itemgetter(1), reverse=True)\n",
    "#print(sorted_cnt)\n",
    "\n",
    "labels, values = zip(*sorted_cnt)\n",
    "\n",
    "indexes = np.arange(len(labels))\n",
    "width = 1\n",
    "\n",
    "plt.bar(indexes, values, width)\n",
    "plt.xticks(indexes + width * 0.5, [])\n",
    "plt.title('Yule\\'s K measure of vocabulary richness')\n",
    "plt.show()\n",
    "\n",
    "print(\"Top 10:\")\n",
    "cnt.most_common(10)"
   ]
  },
  {
   "cell_type": "code",
   "execution_count": 184,
   "metadata": {
    "collapsed": false
   },
   "outputs": [
    {
     "data": {
      "text/html": [
       "<div>\n",
       "<table border=\"1\" class=\"dataframe\">\n",
       "  <thead>\n",
       "    <tr style=\"text-align: right;\">\n",
       "      <th></th>\n",
       "      <th>NAME</th>\n",
       "      <th>Content</th>\n",
       "      <th>Vocabulary</th>\n",
       "      <th>Authenticity</th>\n",
       "      <th>SCORE</th>\n",
       "    </tr>\n",
       "  </thead>\n",
       "  <tbody>\n",
       "    <tr>\n",
       "      <th>0</th>\n",
       "      <td>03-Essay01</td>\n",
       "      <td>1.07</td>\n",
       "      <td>0.68</td>\n",
       "      <td>0.89</td>\n",
       "      <td>2.64</td>\n",
       "    </tr>\n",
       "    <tr>\n",
       "      <th>1</th>\n",
       "      <td>03-Essay02</td>\n",
       "      <td>0.48</td>\n",
       "      <td>1.02</td>\n",
       "      <td>0.47</td>\n",
       "      <td>1.96</td>\n",
       "    </tr>\n",
       "    <tr>\n",
       "      <th>2</th>\n",
       "      <td>03-Essay03</td>\n",
       "      <td>0.22</td>\n",
       "      <td>1.00</td>\n",
       "      <td>0.89</td>\n",
       "      <td>2.10</td>\n",
       "    </tr>\n",
       "    <tr>\n",
       "      <th>3</th>\n",
       "      <td>03-Essay04</td>\n",
       "      <td>0.22</td>\n",
       "      <td>0.58</td>\n",
       "      <td>0.87</td>\n",
       "      <td>1.67</td>\n",
       "    </tr>\n",
       "    <tr>\n",
       "      <th>4</th>\n",
       "      <td>03-Essay05</td>\n",
       "      <td>1.70</td>\n",
       "      <td>0.47</td>\n",
       "      <td>0.86</td>\n",
       "      <td>3.03</td>\n",
       "    </tr>\n",
       "    <tr>\n",
       "      <th>5</th>\n",
       "      <td>03-Essay06</td>\n",
       "      <td>0.48</td>\n",
       "      <td>0.82</td>\n",
       "      <td>0.86</td>\n",
       "      <td>2.16</td>\n",
       "    </tr>\n",
       "    <tr>\n",
       "      <th>6</th>\n",
       "      <td>03-Essay07</td>\n",
       "      <td>1.77</td>\n",
       "      <td>0.63</td>\n",
       "      <td>0.86</td>\n",
       "      <td>3.26</td>\n",
       "    </tr>\n",
       "    <tr>\n",
       "      <th>7</th>\n",
       "      <td>03-Essay08</td>\n",
       "      <td>1.33</td>\n",
       "      <td>0.47</td>\n",
       "      <td>0.87</td>\n",
       "      <td>2.66</td>\n",
       "    </tr>\n",
       "    <tr>\n",
       "      <th>8</th>\n",
       "      <td>03-Essay09</td>\n",
       "      <td>0.11</td>\n",
       "      <td>0.47</td>\n",
       "      <td>0.87</td>\n",
       "      <td>1.45</td>\n",
       "    </tr>\n",
       "    <tr>\n",
       "      <th>9</th>\n",
       "      <td>03-Essay10</td>\n",
       "      <td>0.48</td>\n",
       "      <td>1.02</td>\n",
       "      <td>0.47</td>\n",
       "      <td>1.96</td>\n",
       "    </tr>\n",
       "  </tbody>\n",
       "</table>\n",
       "</div>"
      ],
      "text/plain": [
       "         NAME  Content  Vocabulary  Authenticity  SCORE\n",
       "0  03-Essay01     1.07        0.68          0.89   2.64\n",
       "1  03-Essay02     0.48        1.02          0.47   1.96\n",
       "2  03-Essay03     0.22        1.00          0.89   2.10\n",
       "3  03-Essay04     0.22        0.58          0.87   1.67\n",
       "4  03-Essay05     1.70        0.47          0.86   3.03\n",
       "5  03-Essay06     0.48        0.82          0.86   2.16\n",
       "6  03-Essay07     1.77        0.63          0.86   3.26\n",
       "7  03-Essay08     1.33        0.47          0.87   2.66\n",
       "8  03-Essay09     0.11        0.47          0.87   1.45\n",
       "9  03-Essay10     0.48        1.02          0.47   1.96"
      ]
     },
     "execution_count": 184,
     "metadata": {},
     "output_type": "execute_result"
    }
   ],
   "source": [
    "import warnings\n",
    "warnings.filterwarnings(\"ignore\", category=DeprecationWarning) \n",
    "import pandas as pd\n",
    "from sklearn.preprocessing import MinMaxScaler\n",
    "min_max_scaler = MinMaxScaler()\n",
    "\n",
    "result = pd.DataFrame({\"NAME\":files})\n",
    "\n",
    "result[\"Content\"] = score.values() #min_max_scaler.fit_transform(list(score.values()))\n",
    "result[\"Vocabulary\"] = diversity.values() #min_max_scaler.fit_transform(list(diversity.values()))\n",
    "result[\"Authenticity\"] = origin.values() #min_max_scaler.fit_transform(list(origin.values()))\n",
    "result[\"SCORE\"] = result[\"Content\"]+result[\"Vocabulary\"]+result[\"Authenticity\"]\n",
    "\n",
    "result.round(2)"
   ]
  },
  {
   "cell_type": "code",
   "execution_count": null,
   "metadata": {
    "collapsed": false
   },
   "outputs": [],
   "source": []
  },
  {
   "cell_type": "raw",
   "metadata": {},
   "source": []
  }
 ],
 "metadata": {
  "anaconda-cloud": {},
  "kernelspec": {
   "display_name": "Python [default]",
   "language": "python",
   "name": "python3"
  },
  "language_info": {
   "codemirror_mode": {
    "name": "ipython",
    "version": 3
   },
   "file_extension": ".py",
   "mimetype": "text/x-python",
   "name": "python",
   "nbconvert_exporter": "python",
   "pygments_lexer": "ipython3",
   "version": "3.5.2"
  }
 },
 "nbformat": 4,
 "nbformat_minor": 2
}
