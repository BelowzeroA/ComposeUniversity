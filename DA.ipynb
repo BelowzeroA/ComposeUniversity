{
 "cells": [
  {
   "cell_type": "code",
   "execution_count": 1,
   "metadata": {
    "collapsed": false
   },
   "outputs": [],
   "source": [
    "import gensim\n",
    "from nltk.cluster.kmeans import KMeansClusterer\n",
    "from nltk.cluster.util import cosine_distance, euclidean_distance\n",
    "from os import path\n",
    "from wordcloud import WordCloud\n",
    "import matplotlib.pyplot as plt\n",
    "import numpy as np\n",
    "from gensim.summarization import keywords\n",
    "from gensim.summarization import summarize\n",
    "from summarization import Summarizer\n",
    "import pickle"
   ]
  },
  {
   "cell_type": "code",
   "execution_count": 2,
   "metadata": {
    "collapsed": true
   },
   "outputs": [],
   "source": [
    "#SKIP\n",
    "model = gensim.models.KeyedVectors.load_word2vec_format('./GoogleNews-vectors-negative300.bin', binary=True)\n",
    "#https://drive.google.com/uc?id=0B7XkCwpI5KDYNlNUTTlSS21pQmM&export=download"
   ]
  },
  {
   "cell_type": "code",
   "execution_count": 59,
   "metadata": {
    "collapsed": false
   },
   "outputs": [
    {
     "name": "stdout",
     "output_type": "stream",
     "text": [
      "2\n",
      "4\n",
      "2\n",
      "3\n",
      "1\n",
      "2\n",
      "3\n",
      "3\n",
      "2\n",
      "2\n",
      "\n",
      " 24\n"
     ]
    }
   ],
   "source": [
    "#SKIP\n",
    "folder = \"samples3\"\n",
    "summarizer = Summarizer(folder)\n",
    "sums = summarizer.summarize_all()\n",
    "files = summarizer.files\n",
    "sources = summarizer.sources\n",
    "\n",
    "for sum in sums:\n",
    "    print(len(sum))\n",
    "\n",
    "corpus = []\n",
    "d = dict()\n",
    "\n",
    "i = 0\n",
    "for sum in sums:\n",
    "    for x in sum:\n",
    "        corpus.append(x)\n",
    "        d[x] = i\n",
    "        i+=1\n",
    "        \n",
    "print(\"\\n\",len(corpus))\n",
    "pickle.dump(sources, open(\"sources.p\", \"wb\" ))\n",
    "pickle.dump(corpus, open(\"corpus.p\", \"wb\" ))\n",
    "pickle.dump(files, open(\"files.p\", \"wb\" ))\n",
    "pickle.dump(sums, open(\"sums.p\", \"wb\" ))\n",
    "pickle.dump(d, open(\"d.p\", \"wb\" ))"
   ]
  },
  {
   "cell_type": "code",
   "execution_count": null,
   "metadata": {
    "collapsed": false
   },
   "outputs": [],
   "source": []
  },
  {
   "cell_type": "code",
   "execution_count": 60,
   "metadata": {
    "collapsed": false
   },
   "outputs": [],
   "source": [
    "corpus = pickle.load(open(\"corpus.p\", \"rb\" ) )\n",
    "model_small = pickle.load(open(\"model.p\", \"rb\" ) )\n",
    "data = []\n",
    "for sentence in corpus:\n",
    "    sentence = sentence.lower().split()\n",
    "    #res = []\n",
    "    res = 0\n",
    "    n = 0\n",
    "    for word in sentence:\n",
    "        try:\n",
    "            #model_small[word]=model[word]\n",
    "            res+=model_small[word]\n",
    "            #res.append(model[word])\n",
    "            n+=1\n",
    "        except:\n",
    "            pass\n",
    "    res/=n\n",
    "    #print(n)\n",
    "    #for i in range(50-n):\n",
    "    #    res.append([0]*300)\n",
    "    res = np.array(res)\n",
    "    #print(res.shape)\n",
    "    data.append(res.reshape(-1))\n",
    "    \n",
    "data = np.array(data)\n",
    "pickle.dump(data, open( \"data.p\", \"wb\" ) )\n",
    "#pickle.dump(model_small, open( \"model.p\", \"wb\" ) )"
   ]
  },
  {
   "cell_type": "code",
   "execution_count": 61,
   "metadata": {
    "collapsed": false,
    "scrolled": true
   },
   "outputs": [
    {
     "ename": "TypeError",
     "evalue": "seed expected at most 1 arguments, got 2",
     "output_type": "error",
     "traceback": [
      "\u001b[0;31m---------------------------------------------------------------------------\u001b[0m",
      "\u001b[0;31mTypeError\u001b[0m                                 Traceback (most recent call last)",
      "\u001b[0;32m<ipython-input-61-cbbbe9d12072>\u001b[0m in \u001b[0;36m<module>\u001b[0;34m()\u001b[0m\n\u001b[1;32m      3\u001b[0m \u001b[0;32mimport\u001b[0m \u001b[0mrandom\u001b[0m\u001b[0;34m\u001b[0m\u001b[0m\n\u001b[1;32m      4\u001b[0m \u001b[0;34m\u001b[0m\u001b[0m\n\u001b[0;32m----> 5\u001b[0;31m \u001b[0mkclusterer\u001b[0m \u001b[0;34m=\u001b[0m \u001b[0mKMeansClusterer\u001b[0m\u001b[0;34m(\u001b[0m\u001b[0mNUM_CLUSTERS\u001b[0m\u001b[0;34m,\u001b[0m \u001b[0mdistance\u001b[0m\u001b[0;34m=\u001b[0m\u001b[0meuclidean_distance\u001b[0m\u001b[0;34m,\u001b[0m \u001b[0mrepeats\u001b[0m\u001b[0;34m=\u001b[0m\u001b[0;36m100\u001b[0m\u001b[0;34m,\u001b[0m \u001b[0mrng\u001b[0m\u001b[0;34m=\u001b[0m\u001b[0mrandom\u001b[0m\u001b[0;34m.\u001b[0m\u001b[0mRandom\u001b[0m\u001b[0;34m(\u001b[0m\u001b[0;36m0\u001b[0m\u001b[0;34m,\u001b[0m\u001b[0;36m5\u001b[0m\u001b[0;34m)\u001b[0m\u001b[0;34m)\u001b[0m \u001b[0;31m#euclidean_distance #cosine_distance\u001b[0m\u001b[0;34m\u001b[0m\u001b[0m\n\u001b[0m\u001b[1;32m      6\u001b[0m \u001b[0massigned_clusters\u001b[0m \u001b[0;34m=\u001b[0m \u001b[0mkclusterer\u001b[0m\u001b[0;34m.\u001b[0m\u001b[0mcluster\u001b[0m\u001b[0;34m(\u001b[0m\u001b[0mdata\u001b[0m\u001b[0;34m,\u001b[0m \u001b[0massign_clusters\u001b[0m\u001b[0;34m=\u001b[0m\u001b[0;32mTrue\u001b[0m\u001b[0;34m)\u001b[0m\u001b[0;34m\u001b[0m\u001b[0m\n\u001b[1;32m      7\u001b[0m \u001b[0;31m#print(kclusterer.means())\u001b[0m\u001b[0;34m\u001b[0m\u001b[0;34m\u001b[0m\u001b[0m\n",
      "\u001b[0;31mTypeError\u001b[0m: seed expected at most 1 arguments, got 2"
     ]
    }
   ],
   "source": [
    "data = pickle.load(open(\"data.p\", \"rb\" ) )\n",
    "NUM_CLUSTERS = 3\n",
    "import random\n",
    "\n",
    "kclusterer = KMeansClusterer(NUM_CLUSTERS, distance=euclidean_distance, repeats=100, rng=random.Random(0,5)) #euclidean_distance #cosine_distance\n",
    "assigned_clusters = kclusterer.cluster(data, assign_clusters=True)\n",
    "#print(kclusterer.means())\n",
    "\n",
    "import re\n",
    "from collections import Counter\n",
    "for j in range(NUM_CLUSTERS):\n",
    "    cluster = [corpus[i] for i in range(len(corpus)) if assigned_clusters[i]==j]\n",
    "\n",
    "    text = []\n",
    "    for i in range(len(cluster)):\n",
    "        sentense = str(cluster[i]).lower().split(\" \")\n",
    "        for word in sentense:\n",
    "            text.append(re.sub(r'[^\\w\\s]','',str(word)))\n",
    "    cnt = Counter(text)\n",
    "    f = open(\"cluster_\"+str(j)+\".txt\", 'w')\n",
    "    for item in text:\n",
    "        f.write(\"%s\\n\" % item)\n",
    "    f.close()\n",
    "    \n",
    "    text = open(\"cluster_\"+str(j)+\".txt\").read()\n",
    "    wordcloud = WordCloud().generate(text)\n",
    "    \n",
    "    plt.imshow(wordcloud, interpolation='bilinear')\n",
    "    plt.axis(\"off\")\n",
    "    m = 100\n",
    "    l = 0\n",
    "    for k in range(len(data)):\n",
    "        t = euclidean_distance(data[k], kclusterer.means()[j])\n",
    "        if t<m:\n",
    "            m=t\n",
    "            l=k\n",
    "    print(corpus[l])\n",
    "    plt.show()"
   ]
  },
  {
   "cell_type": "code",
   "execution_count": 7,
   "metadata": {
    "collapsed": false
   },
   "outputs": [],
   "source": [
    "weights = [0.5,-0.1, 0.3]"
   ]
  },
  {
   "cell_type": "code",
   "execution_count": 52,
   "metadata": {
    "collapsed": false
   },
   "outputs": [
    {
     "name": "stdout",
     "output_type": "stream",
     "text": [
      "03-Essay01 -0.2\n",
      "03-Essay02 1.4\n",
      "03-Essay03 -0.2\n",
      "03-Essay04 1.5\n",
      "03-Essay05 -0.1\n",
      "03-Essay06 0.2\n",
      "03-Essay07 0.7\n",
      "03-Essay08 1.1\n"
     ]
    },
    {
     "ename": "IndexError",
     "evalue": "list index out of range",
     "output_type": "error",
     "traceback": [
      "\u001b[0;31m---------------------------------------------------------------------------\u001b[0m",
      "\u001b[0;31mIndexError\u001b[0m                                Traceback (most recent call last)",
      "\u001b[0;32m<ipython-input-52-0d486bafe2e3>\u001b[0m in \u001b[0;36m<module>\u001b[0;34m()\u001b[0m\n\u001b[1;32m      7\u001b[0m     \u001b[0mres\u001b[0m \u001b[0;34m=\u001b[0m \u001b[0;36m0\u001b[0m\u001b[0;34m\u001b[0m\u001b[0m\n\u001b[1;32m      8\u001b[0m     \u001b[0;32mfor\u001b[0m \u001b[0msentance\u001b[0m \u001b[0;32min\u001b[0m \u001b[0messay\u001b[0m\u001b[0;34m:\u001b[0m\u001b[0;34m\u001b[0m\u001b[0m\n\u001b[0;32m----> 9\u001b[0;31m         \u001b[0mk\u001b[0m \u001b[0;34m=\u001b[0m \u001b[0massigned_clusters\u001b[0m\u001b[0;34m[\u001b[0m\u001b[0md\u001b[0m\u001b[0;34m[\u001b[0m\u001b[0msentance\u001b[0m\u001b[0;34m]\u001b[0m\u001b[0;34m]\u001b[0m\u001b[0;34m\u001b[0m\u001b[0m\n\u001b[0m\u001b[1;32m     10\u001b[0m         \u001b[0;31m#print(k)\u001b[0m\u001b[0;34m\u001b[0m\u001b[0;34m\u001b[0m\u001b[0m\n\u001b[1;32m     11\u001b[0m         \u001b[0mres\u001b[0m\u001b[0;34m+=\u001b[0m \u001b[0mweights\u001b[0m\u001b[0;34m[\u001b[0m\u001b[0mk\u001b[0m\u001b[0;34m]\u001b[0m\u001b[0;34m\u001b[0m\u001b[0m\n",
      "\u001b[0;31mIndexError\u001b[0m: list index out of range"
     ]
    }
   ],
   "source": [
    "sources = pickle.load(open(\"sources.p\", \"rb\" ) )\n",
    "files = pickle.load(open(\"files.p\", \"rb\" ) )\n",
    "sums = pickle.load(open(\"sums.p\", \"rb\" ) )\n",
    "d = pickle.load(open(\"d.p\", \"rb\" ) )\n",
    "i = 0\n",
    "for essay in sums:\n",
    "    res = 0\n",
    "    for sentance in essay:\n",
    "        k = assigned_clusters[d[sentance]]\n",
    "        #print(k)\n",
    "        res+= weights[k]\n",
    "    print(files[i], round(res,1))\n",
    "    i+=1"
   ]
  },
  {
   "cell_type": "code",
   "execution_count": 88,
   "metadata": {
    "collapsed": false
   },
   "outputs": [
    {
     "data": {
      "image/png": "[encoded data removed]",
      "text/plain": [
       "<matplotlib.figure.Figure at 0x7f7b31b63f28>"
      ]
     },
     "metadata": {},
     "output_type": "display_data"
    },
    {
     "name": "stdout",
     "output_type": "stream",
     "text": [
      "Top 10:\n"
     ]
    },
    {
     "data": {
      "text/plain": [
       "[('03-Essay09 03-Essay10', 1.0000000000000033),\n",
       " ('03-Essay02 03-Essay04', 0.59806747856548104),\n",
       " ('03-Essay02 03-Essay06', 0.58743640090218663),\n",
       " ('03-Essay02 03-Essay08', 0.56926997799162171),\n",
       " ('03-Essay04 03-Essay06', 0.55371135593726029),\n",
       " ('03-Essay04 03-Essay08', 0.48620789590116298),\n",
       " ('03-Essay05 03-Essay09', 0.48126684213491722),\n",
       " ('03-Essay05 03-Essay10', 0.48126684213491705),\n",
       " ('03-Essay04 03-Essay05', 0.4793432449764688),\n",
       " ('03-Essay01 03-Essay02', 0.47892275227557179)]"
      ]
     },
     "execution_count": 88,
     "metadata": {},
     "output_type": "execute_result"
    }
   ],
   "source": [
    "import nltk, string\n",
    "from sklearn.feature_extraction.text import TfidfVectorizer\n",
    "from collections import Counter\n",
    "import matplotlib.pyplot as plt\n",
    "import operator\n",
    "\n",
    "#nltk.download('punkt') # if necessary...\n",
    "\n",
    "stemmer = nltk.stem.porter.PorterStemmer()\n",
    "remove_punctuation_map = dict((ord(char), None) for char in string.punctuation)\n",
    "\n",
    "def stem_tokens(tokens):\n",
    "    return [stemmer.stem(item) for item in tokens]\n",
    "\n",
    "'''remove punctuation, lowercase, stem'''\n",
    "def normalize(text):\n",
    "    return stem_tokens(nltk.word_tokenize(text.lower().translate(remove_punctuation_map)))\n",
    "\n",
    "vectorizer = TfidfVectorizer(tokenizer=normalize, stop_words='english')\n",
    "\n",
    "def cosine_sim(text1, text2):\n",
    "    tfidf = vectorizer.fit_transform([text1, text2])\n",
    "    return ((tfidf * tfidf.T).A)[0,1]\n",
    "\n",
    "similatity = dict()\n",
    "for i in range(len(sources)):\n",
    "    for j in range(i+1,len(sources)):\n",
    "        similatity[files[i] + \" \" + files[j]] = cosine_sim(sources[i], sources[j])\n",
    "        #print(files[i], files[j], cosine_sim(sources[i], sources[j]))\n",
    "\n",
    "cnt = Counter(similatity)\n",
    "\n",
    "sorted_cnt = sorted(cnt.items(), key=operator.itemgetter(1), reverse=True)\n",
    "#print(sorted_cnt)\n",
    "\n",
    "labels, values = zip(*sorted_cnt)\n",
    "\n",
    "indexes = np.arange(len(labels))\n",
    "width = 1\n",
    "\n",
    "plt.bar(indexes, values, width)\n",
    "plt.xticks(indexes + width * 0.5, [])\n",
    "plt.title('Sorted similarity by TF-IDF')\n",
    "plt.show()\n",
    "\n",
    "print(\"Top 10:\")\n",
    "cnt.most_common(10)"
   ]
  },
  {
   "cell_type": "code",
   "execution_count": null,
   "metadata": {
    "collapsed": true
   },
   "outputs": [],
   "source": []
  }
 ],
 "metadata": {
  "anaconda-cloud": {},
  "kernelspec": {
   "display_name": "Python [default]",
   "language": "python",
   "name": "python3"
  },
  "language_info": {
   "codemirror_mode": {
    "name": "ipython",
    "version": 3
   },
   "file_extension": ".py",
   "mimetype": "text/x-python",
   "name": "python",
   "nbconvert_exporter": "python",
   "pygments_lexer": "ipython3",
   "version": "3.5.2"
  }
 },
 "nbformat": 4,
 "nbformat_minor": 2
}
